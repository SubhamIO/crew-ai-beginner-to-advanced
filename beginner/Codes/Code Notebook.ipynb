{
 "cells": [
  {
   "cell_type": "code",
   "execution_count": null,
   "id": "9aaeea5a-e1ed-4d55-a074-331b7b5eeff5",
   "metadata": {},
   "outputs": [],
   "source": [
    "pip install crewai==0.80.0"
   ]
  },
  {
   "cell_type": "code",
   "execution_count": 1,
   "id": "20404f58-a44e-4382-831d-c330980e97f0",
   "metadata": {},
   "outputs": [],
   "source": [
    "import crewai"
   ]
  },
  {
   "cell_type": "code",
   "execution_count": 2,
   "id": "3cef8b48-48ec-4c9c-a7e0-e957cecbbf2b",
   "metadata": {},
   "outputs": [
    {
     "data": {
      "text/plain": [
       "'0.80.0'"
      ]
     },
     "execution_count": 2,
     "metadata": {},
     "output_type": "execute_result"
    }
   ],
   "source": [
    "crewai.__version__"
   ]
  },
  {
   "cell_type": "code",
   "execution_count": 1,
   "id": "82b127d5-ee70-4d53-a863-ef3a4df27e4b",
   "metadata": {},
   "outputs": [],
   "source": [
    "from dotenv import load_dotenv"
   ]
  },
  {
   "cell_type": "code",
   "execution_count": 2,
   "id": "7eebc5f7-746b-471c-8fe7-f731a1f65cf5",
   "metadata": {},
   "outputs": [
    {
     "data": {
      "text/plain": [
       "True"
      ]
     },
     "execution_count": 2,
     "metadata": {},
     "output_type": "execute_result"
    }
   ],
   "source": [
    "load_dotenv('/home/santhosh/Projects/courses/Pioneer/.env')"
   ]
  },
  {
   "cell_type": "code",
   "execution_count": 6,
   "id": "b7e56fcc-339e-4d7c-9f56-21db67b3bf6a",
   "metadata": {},
   "outputs": [],
   "source": [
    "from crewai import Agent, Task, Crew, LLM"
   ]
  },
  {
   "cell_type": "code",
   "execution_count": 7,
   "id": "3798bc31-99ac-418b-bba0-8bc7ffa9d5bf",
   "metadata": {},
   "outputs": [],
   "source": [
    "llm = LLM(model=\"gpt-4o-mini\")"
   ]
  },
  {
   "cell_type": "markdown",
   "id": "3e82cb3c-453c-4615-be6b-6b05f2b3cba1",
   "metadata": {},
   "source": [
    "# Recipe Recommendation"
   ]
  },
  {
   "cell_type": "code",
   "execution_count": 6,
   "id": "270c4543-e57b-4da6-b4ae-f1cf54935d79",
   "metadata": {},
   "outputs": [],
   "source": [
    "# User inputs\n",
    "main_ingredient = \"tomato\"\n",
    "dietary_restrictions = \"shrimps\""
   ]
  },
  {
   "cell_type": "code",
   "execution_count": 6,
   "id": "448f43d0-feed-4577-abe5-d042e95c52cd",
   "metadata": {},
   "outputs": [],
   "source": [
    "culinary_assistant = Agent(\n",
    "    llm=llm,\n",
    "    role=\"Culinary Assistant\",\n",
    "    backstory=\"An experienced culinary assistant skilled in finding and tailoring recipes based on ingredients and dietary\"\n",
    "    \"needs, and providing clear, step-by-step cooking instructions\",\n",
    "    goal=\"Find recipes, filter them to meet dietary preferences, and guide user through recipe steps.\",\n",
    "    verbose=True,\n",
    ")"
   ]
  },
  {
   "cell_type": "code",
   "execution_count": 7,
   "id": "3ed8e5b8-84a7-44df-b8ff-e024c8af7aae",
   "metadata": {},
   "outputs": [],
   "source": [
    "find_and_filter_recipes = Task(\n",
    "    description=f\"Find recipes that user the ingredient: {main_ingredient} and\"\n",
    "    f\" filter them to meet dietary restrictions: {dietary_restrictions}.\",\n",
    "    expected_output=f\"One recipe using {main_ingredient} and matching {dietary_restrictions} restrictions.\",\n",
    "    agent=culinary_assistant,\n",
    ")\n",
    "\n",
    "guide_recipe_steps = Task(\n",
    "    description=\"Provide step-by-step instructions for the selected recipe.\",\n",
    "    expected_output=\"Step-by-step cooking instructions for the chosen recipe.\",\n",
    "    agent=culinary_assistant,\n",
    ")\n"
   ]
  },
  {
   "cell_type": "code",
   "execution_count": 8,
   "id": "293503d5-4761-40d4-a150-9553bd47d3d5",
   "metadata": {},
   "outputs": [],
   "source": [
    "crew = Crew(\n",
    "    agents=[culinary_assistant],\n",
    "    tasks=[find_and_filter_recipes, guide_recipe_steps],\n",
    "    planning=True,\n",
    ")"
   ]
  },
  {
   "cell_type": "code",
   "execution_count": 9,
   "id": "2577b10c-1c65-4921-9d00-fb4930f1b3ca",
   "metadata": {
    "scrolled": true
   },
   "outputs": [
    {
     "name": "stdout",
     "output_type": "stream",
     "text": [
      "\u001b[1m\u001b[95m# Agent:\u001b[00m \u001b[1m\u001b[92mCulinary Assistant\u001b[00m\n",
      "\u001b[95m## Task:\u001b[00m \u001b[92mFind recipes that user the ingredient: tomato and filter them to meet dietary restrictions: shrimps.Step 1: Understand the Ingredient and Dietary Restriction - Verify the main ingredient: tomato. - Confirm the dietary restriction to be filtered: no shrimp (since the user has a restriction related to shrimps).\n",
      "\n",
      "Step 2: Conduct a Recipe Search - Utilize culinary databases, cookbooks, or online recipe platforms (e.g., AllRecipes, Food Network, etc.) to initiate a search for recipes that prominently feature tomatoes. - Use search terms such as \"tomato recipes\" or \"dishes with tomato\".\n",
      "\n",
      "Step 3: Filter Results for Dietary Restrictions - From the found recipes, manually or through the searching tool, eliminate any recipes that mention shrimp as an ingredient. - Focus on recipes that highlight tomatoes and do not include shrimp or have shrimp as an optional ingredient.\n",
      "\n",
      "Step 4: Compile the Suitable Recipes - From the filtered results, choose one recipe that uses tomatoes and aligns with the restriction of shrimp. - Ensure that the recipe appears appealing, has reasonable prep time, and includes popular ingredients that are generally available.\n",
      "\n",
      "Step 5: Final Review of the Selected Recipe - Confirm that the selected recipe is complete, including ingredient list and preparation steps. - Ensure that it meets the user's dietary preferences.\u001b[00m\n",
      "\n",
      "\n",
      "\u001b[1m\u001b[95m# Agent:\u001b[00m \u001b[1m\u001b[92mCulinary Assistant\u001b[00m\n",
      "\u001b[95m## Final Answer:\u001b[00m \u001b[92m\n",
      "**Recipe: Tomato Basil Pasta** \n",
      "\n",
      "**Ingredients:**\n",
      "- 2 cups of fresh tomatoes (diced, can use Roma or Cherry)\n",
      "- 3 cups of pasta (spaghetti or your choice; use gluten-free if needed)\n",
      "- 2 cloves of garlic (minced)\n",
      "- 1/4 cup of fresh basil leaves (chopped)\n",
      "- 3 tablespoons of extra virgin olive oil\n",
      "- Salt and pepper (to taste)\n",
      "- Grated Parmesan cheese (omit for dairy-free; use a substitute if needed)\n",
      "\n",
      "**Preparation Steps:**\n",
      "\n",
      "1. **Cook the Pasta:**\n",
      "   - Bring a large pot of salted water to a boil.\n",
      "   - Add the pasta and cook according to package instructions until al dente. \n",
      "   - Reserve 1 cup of pasta water, then drain pasta and set aside.\n",
      "\n",
      "2. **Sauté the Garlic:**\n",
      "   - In a large pan, heat the olive oil over medium heat.\n",
      "   - Add the minced garlic and sauté for 1-2 minutes until fragrant, being careful not to let it burn.\n",
      "\n",
      "3. **Add the Tomatoes:**\n",
      "   - Stir in the diced tomatoes into the pan with garlic.\n",
      "   - Season with salt and pepper to taste.\n",
      "   - Cook for about 5-7 minutes, stirring occasionally, until the tomatoes start to break down and release their juices.\n",
      "\n",
      "4. **Combine Pasta and Sauce:**\n",
      "   - Add the drained pasta into the pan with the tomato sauce.\n",
      "   - Toss to coat the pasta evenly in the sauce.\n",
      "   - If the mixture seems dry, add reserved pasta water a little at a time until desired consistency is reached.\n",
      "\n",
      "5. **Add Fresh Basil:**\n",
      "   - Remove the pan from heat and gently fold in the chopped basil.\n",
      "   - Adjust seasoning with more salt and pepper if necessary.\n",
      "\n",
      "6. **Serve:**\n",
      "   - Plate the pasta and top with grated Parmesan cheese if using.\n",
      "   - Garnish with extra basil leaves. Serve warm.\n",
      "\n",
      "**Cooking Time:** 30 minutes  \n",
      "**Servings:** 4\n",
      "\n",
      "This delightful Tomato Basil Pasta is a fresh, simple dish that showcases the vibrant taste of tomatoes while being completely free of shrimp, making it suitable for your dietary preference. Enjoy your culinary creation!\u001b[00m\n",
      "\n",
      "\n",
      "\u001b[1m\u001b[95m# Agent:\u001b[00m \u001b[1m\u001b[92mCulinary Assistant\u001b[00m\n",
      "\u001b[95m## Task:\u001b[00m \u001b[92mProvide step-by-step instructions for the selected recipe.Step 1: Review the Selected Recipe - Read through the entire recipe selected from Task Number 1 to ensure understanding of each step before presenting it to the user.\n",
      "\n",
      "Step 2: Break Down the Cooking Process - Divide the recipe into clear, manageable steps. Each step should be actionable and concise: 1. Gather all ingredients (list out the ones needed for the tomato recipe). 2. Prepare the cooking environment (e.g., preheating the oven, setting up cooking tools). 3. Follow the exact sequence of the recipe for cooking, ensuring each step flows logically into the next.\n",
      "\n",
      "Step 3: Create Detailed Instructions - Write detailed, easy-to-follow cooking instructions, breaking down tasks such as: - Chopping tomatoes, if required. - Cooking methods (e.g., sautéing, boiling, baking). - Cooking times and temperatures.\n",
      "\n",
      "Step 4: Incorporate Tips and Variations - Add any helpful cooking tips or common variations of the dish to enhance the user experience. - Provide information on how to modify the recipe easily, if needed.\n",
      "\n",
      "Step 5: Prepare for User Guidance - Ensure clarity in each step so that the user can follow along without confusion. - Be available to offer additional guidance or answer any questions the user may have during the cooking process.\u001b[00m\n",
      "\n",
      "\n",
      "\u001b[1m\u001b[95m# Agent:\u001b[00m \u001b[1m\u001b[92mCulinary Assistant\u001b[00m\n",
      "\u001b[95m## Final Answer:\u001b[00m \u001b[92m\n",
      "Here are the step-by-step cooking instructions for preparing your Tomato Basil Pasta:\n",
      "\n",
      "### **Ingredients:**\n",
      "- 2 cups of fresh tomatoes (diced, can use Roma or Cherry)\n",
      "- 3 cups of pasta (spaghetti or your choice; use gluten-free if needed)\n",
      "- 2 cloves of garlic (minced)\n",
      "- 1/4 cup of fresh basil leaves (chopped)\n",
      "- 3 tablespoons of extra virgin olive oil\n",
      "- Salt and pepper (to taste)\n",
      "- Grated Parmesan cheese (omit for dairy-free; use a substitute if needed)\n",
      "\n",
      "### **Preparation Steps:**\n",
      "\n",
      "1. **Cook the Pasta:**\n",
      "   - Start by bringing a large pot of salted water to a boil. This will ensure that your pasta is well-seasoned.\n",
      "   - Once the water is boiling, add the pasta of your choice. Cook it according to the package instructions until al dente, which usually takes about 8 to 10 minutes depending on the type of pasta.\n",
      "   - Before draining, reserve 1 cup of the pasta water, which will help with the sauce. Then drain the pasta and set it aside in a large mixing bowl.\n",
      "\n",
      "2. **Sauté the Garlic:**\n",
      "   - In a large pan, heat 3 tablespoons of extra virgin olive oil over medium heat. \n",
      "   - Once the oil is hot, add the 2 cloves of minced garlic and sauté for 1-2 minutes. Keep an eye on it to ensure it doesn’t burn—you're looking for it to become fragrant and slightly golden.\n",
      "\n",
      "3. **Add the Tomatoes:**\n",
      "   - Carefully stir in the 2 cups of diced tomatoes into the pan with the sautéed garlic.\n",
      "   - Season the mixture with salt and pepper to taste. This will enhance the flavors of the tomatoes.\n",
      "   - Allow this to cook for about 5-7 minutes, stirring occasionally. The tomatoes will begin to break down and release their juices, creating a delicious sauce.\n",
      "\n",
      "4. **Combine Pasta and Sauce:**\n",
      "   - Now it’s time to unite the pasta and the sauce. Add the drained pasta from earlier into the pan with the tomato sauce.\n",
      "   - Gently toss the pasta to ensure it is evenly coated with the sauce. If the mixture feels too dry, add the reserved pasta water gradually, a little at a time, until you reach your desired consistency.\n",
      "\n",
      "5. **Add Fresh Basil:**\n",
      "   - After combining, remove the pan from heat. Gently fold in the 1/4 cup of chopped fresh basil. This adds a vibrant freshness to your dish.\n",
      "   - Taste the pasta and adjust the seasoning by adding more salt and pepper if needed.\n",
      "\n",
      "6. **Serve:**\n",
      "   - Plate your Tomato Basil Pasta in serving bowls. If you’re using cheese, top each serving with grated Parmesan cheese. For those following a dairy-free diet, feel free to omit this step or use a suitable substitute.\n",
      "   - Garnish your dish with extra basil leaves for a beautiful presentation. Serve warm and enjoy your culinary creation!\n",
      "\n",
      "### **Cooking Time:**  \n",
      "Total: 30 minutes  \n",
      "**Servings:** 4\n",
      "\n",
      "### **Tips and Variations:**\n",
      "- Feel free to add other vegetables such as spinach or zucchini for added nutrition.\n",
      "- If you like some heat, you can add a pinch of red pepper flakes while sautéing the garlic.\n",
      "- To make it a complete meal, consider adding grilled chicken or shrimp, if those fit your dietary needs.\n",
      "\n",
      "This delightful Tomato Basil Pasta is a fresh, simple dish that showcases the vibrant taste of tomatoes while being completely free of shrimp, making it suitable for your dietary preference. Enjoy your culinary creation!\u001b[00m\n",
      "\n",
      "\n"
     ]
    },
    {
     "data": {
      "text/plain": [
       "CrewOutput(raw=\"Here are the step-by-step cooking instructions for preparing your Tomato Basil Pasta:\\n\\n### **Ingredients:**\\n- 2 cups of fresh tomatoes (diced, can use Roma or Cherry)\\n- 3 cups of pasta (spaghetti or your choice; use gluten-free if needed)\\n- 2 cloves of garlic (minced)\\n- 1/4 cup of fresh basil leaves (chopped)\\n- 3 tablespoons of extra virgin olive oil\\n- Salt and pepper (to taste)\\n- Grated Parmesan cheese (omit for dairy-free; use a substitute if needed)\\n\\n### **Preparation Steps:**\\n\\n1. **Cook the Pasta:**\\n   - Start by bringing a large pot of salted water to a boil. This will ensure that your pasta is well-seasoned.\\n   - Once the water is boiling, add the pasta of your choice. Cook it according to the package instructions until al dente, which usually takes about 8 to 10 minutes depending on the type of pasta.\\n   - Before draining, reserve 1 cup of the pasta water, which will help with the sauce. Then drain the pasta and set it aside in a large mixing bowl.\\n\\n2. **Sauté the Garlic:**\\n   - In a large pan, heat 3 tablespoons of extra virgin olive oil over medium heat. \\n   - Once the oil is hot, add the 2 cloves of minced garlic and sauté for 1-2 minutes. Keep an eye on it to ensure it doesn’t burn—you're looking for it to become fragrant and slightly golden.\\n\\n3. **Add the Tomatoes:**\\n   - Carefully stir in the 2 cups of diced tomatoes into the pan with the sautéed garlic.\\n   - Season the mixture with salt and pepper to taste. This will enhance the flavors of the tomatoes.\\n   - Allow this to cook for about 5-7 minutes, stirring occasionally. The tomatoes will begin to break down and release their juices, creating a delicious sauce.\\n\\n4. **Combine Pasta and Sauce:**\\n   - Now it’s time to unite the pasta and the sauce. Add the drained pasta from earlier into the pan with the tomato sauce.\\n   - Gently toss the pasta to ensure it is evenly coated with the sauce. If the mixture feels too dry, add the reserved pasta water gradually, a little at a time, until you reach your desired consistency.\\n\\n5. **Add Fresh Basil:**\\n   - After combining, remove the pan from heat. Gently fold in the 1/4 cup of chopped fresh basil. This adds a vibrant freshness to your dish.\\n   - Taste the pasta and adjust the seasoning by adding more salt and pepper if needed.\\n\\n6. **Serve:**\\n   - Plate your Tomato Basil Pasta in serving bowls. If you’re using cheese, top each serving with grated Parmesan cheese. For those following a dairy-free diet, feel free to omit this step or use a suitable substitute.\\n   - Garnish your dish with extra basil leaves for a beautiful presentation. Serve warm and enjoy your culinary creation!\\n\\n### **Cooking Time:**  \\nTotal: 30 minutes  \\n**Servings:** 4\\n\\n### **Tips and Variations:**\\n- Feel free to add other vegetables such as spinach or zucchini for added nutrition.\\n- If you like some heat, you can add a pinch of red pepper flakes while sautéing the garlic.\\n- To make it a complete meal, consider adding grilled chicken or shrimp, if those fit your dietary needs.\\n\\nThis delightful Tomato Basil Pasta is a fresh, simple dish that showcases the vibrant taste of tomatoes while being completely free of shrimp, making it suitable for your dietary preference. Enjoy your culinary creation!\", pydantic=None, json_dict=None, tasks_output=[TaskOutput(description='Find recipes that user the ingredient: tomato and filter them to meet dietary restrictions: shrimps.Step 1: Understand the Ingredient and Dietary Restriction - Verify the main ingredient: tomato. - Confirm the dietary restriction to be filtered: no shrimp (since the user has a restriction related to shrimps).\\n\\nStep 2: Conduct a Recipe Search - Utilize culinary databases, cookbooks, or online recipe platforms (e.g., AllRecipes, Food Network, etc.) to initiate a search for recipes that prominently feature tomatoes. - Use search terms such as \"tomato recipes\" or \"dishes with tomato\".\\n\\nStep 3: Filter Results for Dietary Restrictions - From the found recipes, manually or through the searching tool, eliminate any recipes that mention shrimp as an ingredient. - Focus on recipes that highlight tomatoes and do not include shrimp or have shrimp as an optional ingredient.\\n\\nStep 4: Compile the Suitable Recipes - From the filtered results, choose one recipe that uses tomatoes and aligns with the restriction of shrimp. - Ensure that the recipe appears appealing, has reasonable prep time, and includes popular ingredients that are generally available.\\n\\nStep 5: Final Review of the Selected Recipe - Confirm that the selected recipe is complete, including ingredient list and preparation steps. - Ensure that it meets the user\\'s dietary preferences.', name=None, expected_output='One recipe using tomato and matching shrimps restrictions.', summary='Find recipes that user the ingredient: tomato and filter them...', raw='**Recipe: Tomato Basil Pasta** \\n\\n**Ingredients:**\\n- 2 cups of fresh tomatoes (diced, can use Roma or Cherry)\\n- 3 cups of pasta (spaghetti or your choice; use gluten-free if needed)\\n- 2 cloves of garlic (minced)\\n- 1/4 cup of fresh basil leaves (chopped)\\n- 3 tablespoons of extra virgin olive oil\\n- Salt and pepper (to taste)\\n- Grated Parmesan cheese (omit for dairy-free; use a substitute if needed)\\n\\n**Preparation Steps:**\\n\\n1. **Cook the Pasta:**\\n   - Bring a large pot of salted water to a boil.\\n   - Add the pasta and cook according to package instructions until al dente. \\n   - Reserve 1 cup of pasta water, then drain pasta and set aside.\\n\\n2. **Sauté the Garlic:**\\n   - In a large pan, heat the olive oil over medium heat.\\n   - Add the minced garlic and sauté for 1-2 minutes until fragrant, being careful not to let it burn.\\n\\n3. **Add the Tomatoes:**\\n   - Stir in the diced tomatoes into the pan with garlic.\\n   - Season with salt and pepper to taste.\\n   - Cook for about 5-7 minutes, stirring occasionally, until the tomatoes start to break down and release their juices.\\n\\n4. **Combine Pasta and Sauce:**\\n   - Add the drained pasta into the pan with the tomato sauce.\\n   - Toss to coat the pasta evenly in the sauce.\\n   - If the mixture seems dry, add reserved pasta water a little at a time until desired consistency is reached.\\n\\n5. **Add Fresh Basil:**\\n   - Remove the pan from heat and gently fold in the chopped basil.\\n   - Adjust seasoning with more salt and pepper if necessary.\\n\\n6. **Serve:**\\n   - Plate the pasta and top with grated Parmesan cheese if using.\\n   - Garnish with extra basil leaves. Serve warm.\\n\\n**Cooking Time:** 30 minutes  \\n**Servings:** 4\\n\\nThis delightful Tomato Basil Pasta is a fresh, simple dish that showcases the vibrant taste of tomatoes while being completely free of shrimp, making it suitable for your dietary preference. Enjoy your culinary creation!', pydantic=None, json_dict=None, agent='Culinary Assistant', output_format=<OutputFormat.RAW: 'raw'>), TaskOutput(description='Provide step-by-step instructions for the selected recipe.Step 1: Review the Selected Recipe - Read through the entire recipe selected from Task Number 1 to ensure understanding of each step before presenting it to the user.\\n\\nStep 2: Break Down the Cooking Process - Divide the recipe into clear, manageable steps. Each step should be actionable and concise: 1. Gather all ingredients (list out the ones needed for the tomato recipe). 2. Prepare the cooking environment (e.g., preheating the oven, setting up cooking tools). 3. Follow the exact sequence of the recipe for cooking, ensuring each step flows logically into the next.\\n\\nStep 3: Create Detailed Instructions - Write detailed, easy-to-follow cooking instructions, breaking down tasks such as: - Chopping tomatoes, if required. - Cooking methods (e.g., sautéing, boiling, baking). - Cooking times and temperatures.\\n\\nStep 4: Incorporate Tips and Variations - Add any helpful cooking tips or common variations of the dish to enhance the user experience. - Provide information on how to modify the recipe easily, if needed.\\n\\nStep 5: Prepare for User Guidance - Ensure clarity in each step so that the user can follow along without confusion. - Be available to offer additional guidance or answer any questions the user may have during the cooking process.', name=None, expected_output='Step-by-step cooking instructions for the chosen recipe.', summary='Provide step-by-step instructions for the selected recipe.Step 1: Review the...', raw=\"Here are the step-by-step cooking instructions for preparing your Tomato Basil Pasta:\\n\\n### **Ingredients:**\\n- 2 cups of fresh tomatoes (diced, can use Roma or Cherry)\\n- 3 cups of pasta (spaghetti or your choice; use gluten-free if needed)\\n- 2 cloves of garlic (minced)\\n- 1/4 cup of fresh basil leaves (chopped)\\n- 3 tablespoons of extra virgin olive oil\\n- Salt and pepper (to taste)\\n- Grated Parmesan cheese (omit for dairy-free; use a substitute if needed)\\n\\n### **Preparation Steps:**\\n\\n1. **Cook the Pasta:**\\n   - Start by bringing a large pot of salted water to a boil. This will ensure that your pasta is well-seasoned.\\n   - Once the water is boiling, add the pasta of your choice. Cook it according to the package instructions until al dente, which usually takes about 8 to 10 minutes depending on the type of pasta.\\n   - Before draining, reserve 1 cup of the pasta water, which will help with the sauce. Then drain the pasta and set it aside in a large mixing bowl.\\n\\n2. **Sauté the Garlic:**\\n   - In a large pan, heat 3 tablespoons of extra virgin olive oil over medium heat. \\n   - Once the oil is hot, add the 2 cloves of minced garlic and sauté for 1-2 minutes. Keep an eye on it to ensure it doesn’t burn—you're looking for it to become fragrant and slightly golden.\\n\\n3. **Add the Tomatoes:**\\n   - Carefully stir in the 2 cups of diced tomatoes into the pan with the sautéed garlic.\\n   - Season the mixture with salt and pepper to taste. This will enhance the flavors of the tomatoes.\\n   - Allow this to cook for about 5-7 minutes, stirring occasionally. The tomatoes will begin to break down and release their juices, creating a delicious sauce.\\n\\n4. **Combine Pasta and Sauce:**\\n   - Now it’s time to unite the pasta and the sauce. Add the drained pasta from earlier into the pan with the tomato sauce.\\n   - Gently toss the pasta to ensure it is evenly coated with the sauce. If the mixture feels too dry, add the reserved pasta water gradually, a little at a time, until you reach your desired consistency.\\n\\n5. **Add Fresh Basil:**\\n   - After combining, remove the pan from heat. Gently fold in the 1/4 cup of chopped fresh basil. This adds a vibrant freshness to your dish.\\n   - Taste the pasta and adjust the seasoning by adding more salt and pepper if needed.\\n\\n6. **Serve:**\\n   - Plate your Tomato Basil Pasta in serving bowls. If you’re using cheese, top each serving with grated Parmesan cheese. For those following a dairy-free diet, feel free to omit this step or use a suitable substitute.\\n   - Garnish your dish with extra basil leaves for a beautiful presentation. Serve warm and enjoy your culinary creation!\\n\\n### **Cooking Time:**  \\nTotal: 30 minutes  \\n**Servings:** 4\\n\\n### **Tips and Variations:**\\n- Feel free to add other vegetables such as spinach or zucchini for added nutrition.\\n- If you like some heat, you can add a pinch of red pepper flakes while sautéing the garlic.\\n- To make it a complete meal, consider adding grilled chicken or shrimp, if those fit your dietary needs.\\n\\nThis delightful Tomato Basil Pasta is a fresh, simple dish that showcases the vibrant taste of tomatoes while being completely free of shrimp, making it suitable for your dietary preference. Enjoy your culinary creation!\", pydantic=None, json_dict=None, agent='Culinary Assistant', output_format=<OutputFormat.RAW: 'raw'>)], token_usage=UsageMetrics(total_tokens=4260, prompt_tokens=2296, completion_tokens=1964, successful_requests=3))"
      ]
     },
     "execution_count": 9,
     "metadata": {},
     "output_type": "execute_result"
    }
   ],
   "source": [
    "crew.kickoff()"
   ]
  },
  {
   "cell_type": "code",
   "execution_count": 12,
   "id": "a32dfac3-2538-4952-ad7a-a95058f1802f",
   "metadata": {},
   "outputs": [
    {
     "data": {
      "text/plain": [
       "UsageMetrics(total_tokens=4260, prompt_tokens=2296, completion_tokens=1964, successful_requests=3)"
      ]
     },
     "execution_count": 12,
     "metadata": {},
     "output_type": "execute_result"
    }
   ],
   "source": [
    "crew.usage_metrics"
   ]
  },
  {
   "cell_type": "markdown",
   "id": "951abe36-d1be-45b4-893a-1f1891300530",
   "metadata": {},
   "source": [
    "# Marketing Research"
   ]
  },
  {
   "cell_type": "code",
   "execution_count": 8,
   "id": "8cb095a2-69da-4900-b9d5-dc8a71f4a3a2",
   "metadata": {},
   "outputs": [],
   "source": [
    "from crewai import Agent, Task, Crew\n",
    "from crewai_tools import SerperDevTool"
   ]
  },
  {
   "cell_type": "code",
   "execution_count": 9,
   "id": "701c1434-d84f-4dda-8356-deea2fcd032f",
   "metadata": {},
   "outputs": [],
   "source": [
    "product_name = \"energy drink\""
   ]
  },
  {
   "cell_type": "code",
   "execution_count": 10,
   "id": "ead77e18-4164-4d82-b99d-363f7cff102a",
   "metadata": {},
   "outputs": [],
   "source": [
    "strategist_backstory = \"and marketing strategy\""
   ]
  },
  {
   "cell_type": "code",
   "execution_count": 11,
   "id": "cae05753-a7aa-4c92-99cb-5c9c96a1985d",
   "metadata": {},
   "outputs": [],
   "source": [
    "market_researcher = Agent(\n",
    "    role=\"Market Researcher\",\n",
    "    goal=\"Analyze market trends for the product launch\",\n",
    "    backstory=\"Experienced in market trends and consumer behavior analysis\",\n",
    "    tools=[SerperDevTool()],\n",
    "    verbose=True,\n",
    ")\n",
    "\n",
    "strategist = Agent(\n",
    "    role=\"Product Strategist\",\n",
    "    goal=\"Create effective positioning strategies for the product\",\n",
    "    backstory=f\"Skilled in competitive positioning {strategist_backstory}\",\n",
    "    verbose=True,\n",
    ")"
   ]
  },
  {
   "cell_type": "code",
   "execution_count": 12,
   "id": "2d973212-4413-43aa-99b6-2ea7e218fe86",
   "metadata": {},
   "outputs": [],
   "source": [
    "gather_market_insights_task = Task(\n",
    "    description=f\"Browse the internet to gather insights on current market trends for the launch of the {product_name} product.\",\n",
    "    expected_output=f\"List of relevant market trends and consumer preferences, relevant to {product_name}\",\n",
    "    agent=market_researcher,\n",
    ")\n",
    "\n",
    "develop_positioning_strategy_task = Task(\n",
    "    description=\"Based on the market insights,\"\n",
    "                f\"create a positioning strategy for the {product_name} product, including analysis for impact and target audience.\",\n",
    "    expected_output=\"A positioning strategy with target audience and impact notes\",\n",
    "    agent=strategist,\n",
    "    verbose=True,\n",
    ")"
   ]
  },
  {
   "cell_type": "code",
   "execution_count": 13,
   "id": "6f790013-28a1-4951-b6ad-14f1b208ab56",
   "metadata": {},
   "outputs": [],
   "source": [
    "crew = Crew(\n",
    "    agents=[market_researcher, strategist],\n",
    "    tasks=[gather_market_insights_task, develop_positioning_strategy_task],\n",
    "    planning=True,\n",
    ")"
   ]
  },
  {
   "cell_type": "code",
   "execution_count": 14,
   "id": "3b51907f-4378-4131-bc2b-dce4cdf29c00",
   "metadata": {
    "scrolled": true
   },
   "outputs": [
    {
     "name": "stdout",
     "output_type": "stream",
     "text": [
      "\u001b[1m\u001b[95m# Agent:\u001b[00m \u001b[1m\u001b[92mMarket Researcher\u001b[00m\n",
      "\u001b[95m## Task:\u001b[00m \u001b[92mBrowse the internet to gather insights on current market trends for the launch of the energy drink product.1. Define the Search Query: Determine specific phrases or keywords related to energy drinks and market trends. Use effective search queries like \"current market trends energy drinks 2023\", \"consumer preferences energy drink\", and \"energy drink market analysis 2023\".\n",
      "\n",
      "2. Access the Tool: Utilize the **Search the Internet** tool (SerperDevTool) and confirm its capability of executing searches.\n",
      "\n",
      "3. Execute the Search: Input the search query into the tool via the search URL: `https://google.serper.dev/search`.\n",
      "\n",
      "4. Analyze Results: Review the top results returned by the tool, focusing on articles, reports, and studies that offer insights into market trends and consumer behaviors.\n",
      "\n",
      "5. Compile Insights: Document key market trends and consumer preferences, such as trends in flavor preferences, packaging styles, marketing approaches, and demographic insights.\n",
      "\n",
      "6. Prepare the Output: Create a summarized list categorized into **Current Trends** and **Consumer Preferences**, ensuring clarity and conciseness for actionable insights.\u001b[00m\n",
      "\n",
      "\n",
      "\u001b[1m\u001b[95m# Agent:\u001b[00m \u001b[1m\u001b[92mMarket Researcher\u001b[00m\n",
      "\u001b[95m## Thought:\u001b[00m \u001b[92mI need to gather current market insights related to energy drinks, focusing on market trends and consumer preferences. I'll start by conducting a search with relevant keywords.\u001b[00m\n",
      "\u001b[95m## Using tool:\u001b[00m \u001b[92mSearch the internet\u001b[00m\n",
      "\u001b[95m## Tool Input:\u001b[00m \u001b[92m\n",
      "\"{\\\"search_query\\\": \\\"current market trends energy drinks 2023\\\"}\"\u001b[00m\n",
      "\u001b[95m## Tool Output:\u001b[00m \u001b[92m\n",
      "\n",
      "Search results: Title: US Energy Drinks Market Report 2023 - Mintel Store\n",
      "Link: https://store.mintel.com/us/report/us-energy-drinks-market-report-2023/\n",
      "Snippet: The US energy drink industry is currently valued at $21.1bn worth of sales with estimated 2022 figures, and is forecasted to grow 7.2% to $22.7bn in 2023.\n",
      "---\n",
      "Title: U.S. energy drink market share 2023 - Statista\n",
      "Link: https://www.statista.com/statistics/306864/market-share-of-leading-energy-drink-brands-in-the-us-based-on-case-volume-sales/\n",
      "Snippet: The market share of Red Bull was 43 percent in 2022. Red Bull was the best selling energy drink in the U.S., followed by Monster.\n",
      "---\n",
      "Title: Global Energy Drinks Market Report 2024\n",
      "Link: https://www.thebusinessresearchcompany.com/report/energy-drinks-global-market-report\n",
      "Snippet: The energy drinks market size has grown strongly in recent years. It will grow from $62.85 billion in 2023 to $67.64 billion in 2024 at a compound annual growth ...\n",
      "---\n",
      "Title: Energy Drinks Market to Grow by USD 40.04 Billion from 2023-2027 ...\n",
      "Link: https://finance.yahoo.com/news/energy-drinks-market-grow-usd-220200072.html\n",
      "Snippet: The global energy drinks market size is estimated to grow by USD 40.04 billion from 2023-2027, according to Technavio.\n",
      "---\n",
      "Title: Sports and Energy Drinks Trends in the US: Exploring Next-Gen\n",
      "Link: https://www.innovamarketinsights.com/trends/sports-and-energy-drinks-trends/\n",
      "Snippet: Sugar-free claims occurred in 54% of energy drinks launches, gaining 29% points and in 46% of sports drinks launches in 2022-2023 YTD.\n",
      "---\n",
      "Title: With increased popularity, the energy drinks market shows its ...\n",
      "Link: https://www.bevindustry.com/articles/95945-2023-state-of-the-beverage-industry-with-increased-popularity-the-energy-drinks-market-shows-its-dominance\n",
      "Snippet: “Diet energy drinks should increase their share of volume from 41.7% in 2020 to 42.1% in 2025. Their share of wholesale dollars is expected to ...\n",
      "---\n",
      "Title: US Energy Drinks Market Size, Trends, Share, Forecast 2033\n",
      "Link: https://www.custommarketinsights.com/report/us-energy-drinks-market/\n",
      "Snippet: Drinks dominated the market in 2023 with a market share of 58.4% and are expected to keep their dominance during the forecast period 2024-2033.\n",
      "---\n",
      "Title: Energy drink sales in the U.S. 2023 | Statista\n",
      "Link: https://www.statista.com/statistics/558022/us-energy-drink-sales/\n",
      "Snippet: In 2017, energy drink sales in the United States amounted to 11 billion U.S. dollars and reached around 18.5 billion U.S. dollars by 2023.\n",
      "---\n",
      "Title: Energy Drinks Market Size to Flow above US$205.88 billion by 2032\n",
      "Link: https://straitsresearch.com/report/energy-drinks-market\n",
      "Snippet: The global energy drinks market size was valued at USD 98.8 billion in 2023. It is expected to reach USD 205.88 billion in 2032, growing at a CAGR of 8.5% over ...\n",
      "---\n",
      "\u001b[00m\n",
      "\n",
      "\n",
      "\u001b[1m\u001b[95m# Agent:\u001b[00m \u001b[1m\u001b[92mMarket Researcher\u001b[00m\n",
      "\u001b[95m## Thought:\u001b[00m \u001b[92mThought: I need to perform another search to gather more insights on consumer preferences related to energy drinks to provide a comprehensive overview.\u001b[00m\n",
      "\u001b[95m## Using tool:\u001b[00m \u001b[92mSearch the internet\u001b[00m\n",
      "\u001b[95m## Tool Input:\u001b[00m \u001b[92m\n",
      "\"{\\\"search_query\\\": \\\"consumer preferences energy drinks 2023\\\"}\"\u001b[00m\n",
      "\u001b[95m## Tool Output:\u001b[00m \u001b[92m\n",
      "\n",
      "Search results: Title: US Energy Drinks Market Report 2023 - Mintel Store\n",
      "Link: https://store.mintel.com/us/report/us-energy-drinks-market-report-2023/\n",
      "Snippet: Energy drinks are largely a younger consumers' category, with men aged 18-34 leading consumption. There is promise for younger women in the category however, ...\n",
      "---\n",
      "Title: Category loyalists, newcomers keep energy drink market thriving\n",
      "Link: https://www.bevindustry.com/articles/96743-2024-state-of-the-beverage-industry-category-loyalists-newcomers-keep-energy-drink-market-thriving\n",
      "Snippet: The energy drinks category continues to have positive growth across dollars, units and volume showing consumers interest has not waned.\n",
      "---\n",
      "Title: United States Energy Drink Market Report 2023-2028 - PR Newswire\n",
      "Link: https://www.prnewswire.com/news-releases/united-states-energy-drink-market-report-2023-2028-increasing-demand-for-healthier-and-functional-energy-drinks-as-with-prime-set-to-surpass-1-billion-in-sales-this-year-302003329.html\n",
      "Snippet: The diversification of the beverage market has led to a shift in consumer preferences away from traditional energy drinks, posing a challenge ...\n",
      "---\n",
      "Title: Four Trends Impacting Energy Drinks | Convenience Store News\n",
      "Link: https://csnews.com/four-trends-impacting-energy-drinks\n",
      "Snippet: The energy drink market is experiencing unprecedented growth, fueled by changing consumer preferences and lifestyle trends, according to a new report from ...\n",
      "---\n",
      "Title: Changing Consumer Demands in the Energy Drinks Industry - Mintel\n",
      "Link: https://www.mintel.com/insights/food-and-drink/changing-consumer-demands-in-the-energy-drinks-industry/\n",
      "Snippet: In this article, Mintel examines how evolving consumer demands have affected the global energy drinks industry over the past three years.\n",
      "---\n",
      "Title: Healthy Energy Drinks Market Size And Share Report 2030\n",
      "Link: https://www.grandviewresearch.com/industry-analysis/healthy-energy-drinks-market-report\n",
      "Snippet: The global healthy energy drinks market size was estimated at USD 4.17 billion in 2023 and is expected to grow at a CAGR of 6.2% from 2024 to 2030.\n",
      "---\n",
      "Title: Clean Caffeine Energy Drinks Trends in the US. Consumers in the\n",
      "Link: https://www.innovamarketinsights.com/trends/caffeine-energy-drinks/\n",
      "Snippet: Caffeine has remained a preferred ingredient in US consumers' energy drinks, chosen by 47% as an ingredient of interest in their products.\n",
      "---\n",
      "Title: US Energy Drinks Market Size, Trends, Share, Forecast 2033\n",
      "Link: https://www.custommarketinsights.com/report/us-energy-drinks-market/\n",
      "Snippet: The growing desire for natural and organic ingredients is having a big impact on the US energy drink market. Consumers are increasingly looking for better ...\n",
      "---\n",
      "Title: Examining the 9 Latest Trends in Energy Drinks | BevSource\n",
      "Link: https://www.bevsource.com/news/examining-the-9-latest-trends-in-energy-drinks\n",
      "Snippet: 1. Functional Energy Drinks · 2. Clinically Backed Ingredients · 3. Cognitive Improvement · 4. Energy Without the Jitters · 5. Emphasis on Clean Energy · 6.\n",
      "---\n",
      "\u001b[00m\n",
      "\n",
      "\n",
      "\u001b[1m\u001b[95m# Agent:\u001b[00m \u001b[1m\u001b[92mMarket Researcher\u001b[00m\n",
      "\u001b[95m## Final Answer:\u001b[00m \u001b[92m\n",
      "**Current Trends:**\n",
      "1. **Market Growth**: The US energy drink market is expected to grow from approximately $21.1 billion in 2022 to $22.7 billion in 2023, indicating a growth rate of 7.2% (Source: Mintel).\n",
      "2. **Health-Oriented Products**: There is a significant shift towards healthier options, with a noted increase in sugar-free energy drinks, which accounted for 54% of launches in 2022-2023 (Source: Innovamarket Insights).\n",
      "3. **Functional Energy Options**: Increasing consumer preference for functional benefits is noted, with products emphasizing cognitive improvements and energy without jitters (Source: BevSource).\n",
      "4. **Natural Ingredients**: Growing demand for natural and organic ingredients is reshaping product formulations, reflecting consumers' desire for healthier beverage options (Source: Custom Market Insights).\n",
      "5. **Target Demographics**: The primary consumers are typically young men aged 18-34, but there is a notable increase in consumption among younger women (Source: Mintel).\n",
      "\n",
      "**Consumer Preferences:**\n",
      "1. **Increased Interest in Clean Label**: Consumers are gravitating towards products labeled as “clean,” seeking transparency in ingredient sourcing and nutritional value (Source: Innovative Market Insights).\n",
      "2. **Flavor Innovations**: Diversification in flavor profiles, especially exotic and unique flavors, is driving consumer interest and engagement (Source: Convenience Store News).\n",
      "3. **Ingredient Transparency**: A strong preference for clear, honest labeling of ingredients has emerged, with many consumers seeking out products that disclose their contents (Source: Mintel).\n",
      "4. **Caffeine as a Preferred Ingredient**: A survey indicates that 47% of consumers view caffeine as a desirable ingredient in energy drinks (Source: Innovative Market Insights).\n",
      "5. **Experiential Marketing**: Consumers respond positively to brands that create fun, engaging experiences through marketing campaigns, events, and sponsorships that connect with their lifestyle (Source: Mintel). \n",
      "\n",
      "This summary provides actionable insights into both the current market dynamics and consumer sentiments surrounding energy drinks, which can be essential for guiding the product launch strategy.\u001b[00m\n",
      "\n",
      "\n",
      "\u001b[1m\u001b[95m# Agent:\u001b[00m \u001b[1m\u001b[92mProduct Strategist\u001b[00m\n",
      "\u001b[95m## Task:\u001b[00m \u001b[92mBased on the market insights,create a positioning strategy for the energy drink product, including analysis for impact and target audience.1. Review Market Insights: Thoroughly review the compiled insights from the Market Researcher, noting trends, target demographics, and consumer preferences.\n",
      "\n",
      "2. Identify Core Positioning Elements: Define key elements of the positioning strategy, including the Unique Selling Proposition (USP), brand voice and messaging, and visually appealing elements that resonate with the consumer preferences identified.\n",
      "\n",
      "3. Segment Target Audiences: Identify potential target audiences for the energy drink based on insights, considering age groups, lifestyle segments, and purchasing motivations.\n",
      "\n",
      "4. Assess Potential Impact: Evaluate how different target audience segments might react to varying positioning strategies and how the product can fulfill specific needs or desires.\n",
      "\n",
      "5. Draft Positioning Strategy: Create a structured document outlining the proposed positioning strategy, including **Target Audiences**, a **Positioning Statement**, and **Impact Analysis** notes.\n",
      "\n",
      "6. Finalize and Review: Review the positioning strategy for clarity and coherence, integrating insights from the Market Researcher's findings and refining the strategy based on feedback.\u001b[00m\n",
      "\n",
      "\n",
      "\u001b[1m\u001b[95m# Agent:\u001b[00m \u001b[1m\u001b[92mProduct Strategist\u001b[00m\n",
      "\u001b[95m## Final Answer:\u001b[00m \u001b[92m\n",
      "**Positioning Strategy for Energy Drink Product**\n",
      "\n",
      "**I. Target Audiences**  \n",
      "1. **Young Adults (18-34 years)**: This demographic encompasses both young men and women who are proactive in their lifestyles, frequent the gym, and seek energy boosts for various activities including workouts, studying, or social engagements.\n",
      "   - **Lifestyle Segments**: Fitness enthusiasts, college students, and young professionals who value productivity and engagement.\n",
      "   - **Purchasing Motivations**: Looking for effective energy sources, cognitive enhancements, and health-centric alternatives.\n",
      "\n",
      "2. **Health-Conscious Consumers**: This includes both genders, particularly focusing on women aged 18-34 who have an increasing interest in health and nutrition.\n",
      "   - **Lifestyle Segments**: Participants in health and wellness trends, those prioritizing organic and natural products, and individuals with dietary restrictions (e.g., sugar-free).\n",
      "   - **Purchasing Motivations**: Seeking clean-label products with natural ingredients and functional benefits without compromising on flavor.\n",
      "\n",
      "3. **Performance-Driven Individuals**: Ages 25-45, encompassing professionals and athletes who pursue high performance in work and sports.\n",
      "   - **Lifestyle Segments**: Competitive athletes, business professionals, and gamers requiring sustained energy.\n",
      "   - **Purchasing Motivations**: Searching for products that can keep them energized and focused during activities, particularly those that promote cognitive benefits and physical endurance.\n",
      "\n",
      "**II. Positioning Statement**  \n",
      "For health-conscious, young adults seeking superior energy and focus without the crash, our energy drink stands out by providing refreshing, clean-label formulations made with natural ingredients and effective caffeine extracts. Unlike traditional sugary energy drinks, we offer unique, enticing flavors and functional benefits, promoting both mental clarity and physical performance, while prioritizing health and ingredient transparency.\n",
      "\n",
      "**III. Impact Analysis**  \n",
      "\n",
      "1. **Young Adults (18-34 years)**: \n",
      "   - **Reaction to Positioning**: Likely to resonate due to emphasis on health, productivity, and unique flavors; attracts both genders by positioning as a trendy lifestyle choice.\n",
      "   - **Fulfillment of Needs**: This group values functional benefits and innovative flavor profiles, allowing for increased consumption during social activities and fitness routines.\n",
      "\n",
      "2. **Health-Conscious Consumers**:\n",
      "   - **Reaction to Positioning**: This audience will positively respond to clean-label claims and natural ingredient sourcing. The sugar-free formulation and transparency in labeling align with their preferences.\n",
      "   - **Fulfillment of Needs**: The offer of natural, health-centered ingredients coupled with the satisfaction of flavor would drive loyalty and repeat purchases.\n",
      "\n",
      "3. **Performance-Driven Individuals**:\n",
      "   - **Reaction to Positioning**: This segment will appreciate the dual focus on energy and cognitive performance. Positioning around mental and physical enhancement will foster engagement and credibility in athletic and professional circles.\n",
      "   - **Fulfillment of Needs**: With a focus on productivity and endurance, they will find the product appealing for serious training, thus creating opportunities for sponsorships or partnerships in sports and related events.\n",
      "\n",
      "**IV. Unique Selling Proposition (USP)**  \n",
      "\"Natural Energy, Enhanced Focus: Experience the Power of Clean Ingredients.\"\n",
      "\n",
      "**V. Brand Voice and Messaging**  \n",
      "The brand voice should be energetic, inspiring, and relatable. Messaging must emphasize health, transparency, and fun to engage the audience. Use social media platforms to create interactive campaigns that highlight how consumers integrate the drink into their daily lives, winners from competitions, and flavor contests.\n",
      "\n",
      "**VI. Visually Appealing Elements**  \n",
      "- **Packaging**: Eye-catching designs that reflect natural themes and energy. Clear labeling of ingredients and functional benefits must be prominent.\n",
      "- **Marketing Campaigns**: Use vibrant colors and dynamic imagery in campaigns, showcasing active lifestyles to appeal to younger audiences.\n",
      "\n",
      "**VII. Conclusion**  \n",
      "This positioning strategy effectively aligns with market insights and addresses consumer preferences for energy drinks. By balancing health, functionality, and flavor innovation, the brand embodies the lifestyle and values of its target demographics, ultimately driving market growth and enhancing brand loyalty.\u001b[00m\n",
      "\n",
      "\n"
     ]
    }
   ],
   "source": [
    "output = crew.kickoff()"
   ]
  },
  {
   "cell_type": "code",
   "execution_count": 28,
   "id": "bcf8935c-1851-4b0b-abde-face205f5ce8",
   "metadata": {},
   "outputs": [
    {
     "name": "stdout",
     "output_type": "stream",
     "text": [
      "**Positioning Strategy for [Product Name]**\n",
      "\n",
      "**Executive Summary:**\n",
      "The lunch products market is evolving rapidly, driven by health-conscious consumer behavior, an emphasis on convenience, and a demand for innovative flavors. Our product, [Product Name], is uniquely positioned to capitalize on these trends by offering a gourmet, health-oriented, and plant-based lunch solution that caters to the modern consumer's needs. This document outlines our target audience, analyzes the market impact, and provides a clear positioning statement that encapsulates how [Product Name] stands out in the competitive landscape.\n",
      "\n",
      "**1. Target Audience Segmentation:**\n",
      "\n",
      "We have identified the following key segments that will most benefit from our product:\n",
      "\n",
      "- **Health-Conscious Women (Ages 25-45)**: Primarily urban dwellers, they prioritize nutrition and seek convenient, healthy meal options that fit their lifestyle. They have a higher disposable income and are willing to pay for premium services.\n",
      "\n",
      "- **Busy Professionals (Ages 30-50)**: They value convenience and speed but do not want to compromise on quality. This group appreciates gourmet flavors and is keen on innovative meal offerings that excite their palate.\n",
      "\n",
      "- **Millennials and Gen Z Students (Ages 18-30)**: These individuals are adventurous eaters who seek unique flavors and sustainable options. They are particularly attracted to plant-based diets and bold culinary fusions.\n",
      "\n",
      "- **Eco-Conscious Consumers**: This segment spans various ages but shares a commitment to sustainability and climate-conscious choices. They prefer products that align with their values regarding ethical sourcing and environmental responsibilities.\n",
      "\n",
      "**2. Impact Analysis:**\n",
      "\n",
      "Several market trends significantly affect [Product Name]'s positioning:\n",
      "\n",
      "- **Health-Conscious Choices**: The growing trend towards health-focused eating directly supports our inclusion of nutritious ingredients. Our product aligns with the consumer preference for low-calorie, high-nutrient lunches, tapping into the wellness trend.\n",
      "\n",
      "- **Gourmet Convenience**: As consumers seek convenience without sacrificing quality, our offering blend sophisticated flavors with easy preparation and packaging, ensuring that busy individuals can enjoy a gourmet meal on the go.\n",
      "\n",
      "- **Innovative Flavors and Plant-Based Options**: By incorporating fusion-inspired recipes, including global cuisines and plant-based ingredients, we meet the rising demand for bold flavors and sustainability, making our product appealing to the adventurous eater.\n",
      "\n",
      "- **Sustainability Focus**: Incorporating sustainable, ethically sourced ingredients enhances our product's appeal, particularly to eco-conscious consumers. We prioritize packaging that reduces environmental impact, reinforcing our commitment to green practices.\n",
      "\n",
      "**3. Positioning Statement:**\n",
      "\n",
      "\"For health-conscious, busy individuals who crave gourmet flavors and innovative, sustainable meal options, [Product Name] offers a unique, plant-based lunch solution that combines convenience with premium quality. Unlike competitive offerings, our product features bold flavors and carefully sourced ingredients, making lunch an exciting culinary experience while supporting a healthy lifestyle and sustainability.\"\n",
      "\n",
      "**4. Supporting Arguments:**\n",
      "\n",
      "- **Unique Selling Proposition (USP)**: While many lunch products focus solely on convenience or health, [Product Name] strikes a balance, delivering gourmet flavor options that are also nutritious and sustainable.\n",
      "  \n",
      "- **Addressing Consumer Needs**: Our product is perfectly suited for consumers who are juggling busy schedules yet desire meals that excite and nurture them. The focus on health, convenience, and innovative flavors resonates with contemporary consumer preferences.\n",
      "\n",
      "- **Market Entry Strategy**: We recommend focusing on online sales initially to tap into the busy professional and student segments, utilizing social media marketing to highlight the product's unique flavor profiles and sustainability credentials.\n",
      "\n",
      "**5. Document Review and Future Steps:**\n",
      "\n",
      "The draft of this positioning strategy will be scheduled for review with key stakeholders for feedback and refinement. Once finalized, the document will serve as a roadmap for launching [Product Name] into the market, ensuring alignment with identified consumer needs and market trends.\n",
      "\n",
      "This comprehensive positioning strategy for [Product Name] is designed to ensure that our product occupies a strong, distinctive space in the competitive landscape of the lunch products market. By effectively addressing the evolving preferences of our target audience, we are poised to achieve substantial growth and brand loyalty in the emerging market.\n"
     ]
    }
   ],
   "source": [
    "print(output.raw)"
   ]
  },
  {
   "cell_type": "code",
   "execution_count": 27,
   "id": "6d82b40d-6c23-426a-be9f-6a59082f62f3",
   "metadata": {},
   "outputs": [
    {
     "data": {
      "text/plain": [
       "UsageMetrics(total_tokens=6099, prompt_tokens=3485, completion_tokens=2614, successful_requests=4)"
      ]
     },
     "execution_count": 27,
     "metadata": {},
     "output_type": "execute_result"
    }
   ],
   "source": [
    "output.token_usage"
   ]
  },
  {
   "cell_type": "markdown",
   "id": "07d72ac5-7956-4140-96ac-68fbd626c7d4",
   "metadata": {},
   "source": [
    "# Game Flow"
   ]
  },
  {
   "cell_type": "code",
   "execution_count": 7,
   "id": "aaae5e87-c8dd-40bb-9e81-9289b43c8281",
   "metadata": {},
   "outputs": [],
   "source": [
    "import nest_asyncio\n",
    "nest_asyncio.apply()"
   ]
  },
  {
   "cell_type": "code",
   "execution_count": 8,
   "id": "94c052a2-5bc9-4692-86c6-6e3a575071b9",
   "metadata": {},
   "outputs": [],
   "source": [
    "import random\n",
    "from crewai.flow.flow import Flow, listen, router, start\n",
    "from pydantic import BaseModel"
   ]
  },
  {
   "cell_type": "code",
   "execution_count": 9,
   "id": "2cba587e-d6ef-4c69-976f-fe09127e2b71",
   "metadata": {},
   "outputs": [],
   "source": [
    "class GameSession(BaseModel):\n",
    "    player_won: bool = False\n",
    "\n",
    "\n",
    "class GameFlow(Flow[GameSession]):\n",
    "\n",
    "    @start()\n",
    "    def begin_start(self):\n",
    "        print(\"Starting the game session\")\n",
    "        player_outcome = random.choice([True, False])\n",
    "        self.state.player_won = player_outcome\n",
    "\n",
    "    @router(begin_start)\n",
    "    def check_outcome(self):\n",
    "        if self.state.player_won:\n",
    "            return \"win\"\n",
    "        else:\n",
    "            return \"lose\"\n",
    "\n",
    "    @listen(\"win\")\n",
    "    def celebrate_win(self):\n",
    "        print(\"Congratulations!\")\n",
    "\n",
    "    @listen(\"lose\")\n",
    "    def console_loss(self):\n",
    "        print(\"Game Over!\")"
   ]
  },
  {
   "cell_type": "code",
   "execution_count": 10,
   "id": "52947003-0d90-4fe9-9764-d76e5046091e",
   "metadata": {},
   "outputs": [],
   "source": [
    "flow = GameFlow()"
   ]
  },
  {
   "cell_type": "code",
   "execution_count": 40,
   "id": "30e37653-8e1a-4c8f-a907-eb4ac20d1577",
   "metadata": {},
   "outputs": [
    {
     "name": "stdout",
     "output_type": "stream",
     "text": [
      "Starting the game session\n"
     ]
    },
    {
     "data": {
      "text/plain": [
       "'lose'"
      ]
     },
     "execution_count": 40,
     "metadata": {},
     "output_type": "execute_result"
    }
   ],
   "source": [
    "flow.kickoff()"
   ]
  }
 ],
 "metadata": {
  "kernelspec": {
   "display_name": "Python 3 (ipykernel)",
   "language": "python",
   "name": "python3"
  },
  "language_info": {
   "codemirror_mode": {
    "name": "ipython",
    "version": 3
   },
   "file_extension": ".py",
   "mimetype": "text/x-python",
   "name": "python",
   "nbconvert_exporter": "python",
   "pygments_lexer": "ipython3",
   "version": "3.11.7"
  }
 },
 "nbformat": 4,
 "nbformat_minor": 5
}
